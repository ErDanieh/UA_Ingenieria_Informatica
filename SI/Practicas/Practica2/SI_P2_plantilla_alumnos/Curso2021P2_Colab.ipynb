{
  "nbformat": 4,
  "nbformat_minor": 0,
  "metadata": {
    "colab": {
      "name": "Curso2021P2-Alumnos.ipynb",
      "provenance": [],
      "collapsed_sections": [],
      "toc_visible": true
    },
    "kernelspec": {
      "name": "python3",
      "display_name": "Python 3"
    },
    "language_info": {
      "name": "python"
    }
  },
  "cells": [
    {
      "cell_type": "markdown",
      "metadata": {
        "id": "G1w-sVA-h82d"
      },
      "source": [
        "# Práctica 2: clasificación de dígitos MNIST mediante AdaBoost"
      ]
    },
    {
      "cell_type": "markdown",
      "metadata": {
        "id": "d1hbMxmiiHWI"
      },
      "source": [
        "**Introducción**"
      ]
    },
    {
      "cell_type": "markdown",
      "metadata": {
        "id": "12Jm82LuM4D8"
      },
      "source": [
        "Importar librerías"
      ]
    },
    {
      "cell_type": "code",
      "metadata": {
        "id": "qPgdzozKxsJi"
      },
      "source": [
        "import numpy as np\n",
        "import matplotlib.pyplot as plt\n",
        "from keras.datasets import mnist"
      ],
      "execution_count": null,
      "outputs": []
    },
    {
      "cell_type": "markdown",
      "metadata": {
        "id": "fabseaAOf3da"
      },
      "source": [
        "Desde la libería de Keras podemos descargar la base datos MNIST"
      ]
    },
    {
      "cell_type": "code",
      "metadata": {
        "id": "ObCTezA8gHOb",
        "colab": {
          "base_uri": "https://localhost:8080/"
        },
        "outputId": "5f2aa8dd-09c9-482b-ae5b-81764a8b3b8b"
      },
      "source": [
        "(x_train, y_train), (x_test, y_test) = mnist.load_data()"
      ],
      "execution_count": null,
      "outputs": [
        {
          "output_type": "stream",
          "text": [
            "Downloading data from https://storage.googleapis.com/tensorflow/tf-keras-datasets/mnist.npz\n",
            "11493376/11490434 [==============================] - 0s 0us/step\n"
          ],
          "name": "stdout"
        }
      ]
    },
    {
      "cell_type": "code",
      "metadata": {
        "id": "c5vspCNFgHyz",
        "colab": {
          "base_uri": "https://localhost:8080/"
        },
        "outputId": "83d8bf3b-5687-4170-979c-eb0febf0a126"
      },
      "source": [
        "x_train.shape,y_train.shape"
      ],
      "execution_count": null,
      "outputs": [
        {
          "output_type": "execute_result",
          "data": {
            "text/plain": [
              "((60000, 28, 28), (60000,))"
            ]
          },
          "metadata": {
            "tags": []
          },
          "execution_count": 4
        }
      ]
    },
    {
      "cell_type": "markdown",
      "metadata": {
        "id": "QMWE3hpqgs3c"
      },
      "source": [
        "Guardar base de datos en un fichero"
      ]
    },
    {
      "cell_type": "code",
      "metadata": {
        "id": "UwZhUZfpg2bd"
      },
      "source": [
        "np.savez(\"mnist\",x=x_train,y=y_train)"
      ],
      "execution_count": null,
      "outputs": []
    },
    {
      "cell_type": "markdown",
      "metadata": {
        "id": "ZhvNEctdiV2W"
      },
      "source": [
        "Cargar base de datos desde un fichero"
      ]
    },
    {
      "cell_type": "code",
      "metadata": {
        "id": "PAHczaleib5u",
        "colab": {
          "base_uri": "https://localhost:8080/"
        },
        "outputId": "61f8643b-f7f2-4dd9-d87b-ab0f07267b55"
      },
      "source": [
        "npzfile = np.load(\"mnist.npz\")\n",
        "mnist_X = npzfile['x']\n",
        "mnist_Y = npzfile['y']\n",
        "mnist_X.shape"
      ],
      "execution_count": null,
      "outputs": [
        {
          "output_type": "execute_result",
          "data": {
            "text/plain": [
              "(60000, 28, 28)"
            ]
          },
          "metadata": {
            "tags": []
          },
          "execution_count": 6
        }
      ]
    },
    {
      "cell_type": "markdown",
      "metadata": {
        "id": "sTGcqWYwgSoJ"
      },
      "source": [
        "Mostrar una imagen de MNIST"
      ]
    },
    {
      "cell_type": "code",
      "metadata": {
        "colab": {
          "base_uri": "https://localhost:8080/",
          "height": 282
        },
        "id": "YmnDV3RigY6T",
        "outputId": "e5822736-f5ba-480a-f578-54ea81a5f8a1"
      },
      "source": [
        "plt.figure()\n",
        "plt.imshow(x_train[40])\n",
        "plt.show()\n",
        "print(\"Etiqueta: \" + str(y_train[40]))"
      ],
      "execution_count": null,
      "outputs": [
        {
          "output_type": "display_data",
          "data": {
            "image/png": "[encoded data removed]",
            "text/plain": [
              "<Figure size 432x288 with 1 Axes>"
            ]
          },
          "metadata": {
            "tags": [],
            "needs_background": "light"
          }
        },
        {
          "output_type": "stream",
          "text": [
            "Etiqueta: 1\n"
          ],
          "name": "stdout"
        }
      ]
    },
    {
      "cell_type": "markdown",
      "metadata": {
        "id": "ANntXnhohkHd"
      },
      "source": [
        "**Implementación AdaBoost**"
      ]
    },
    {
      "cell_type": "markdown",
      "metadata": {
        "id": "-Yt22wELipJT"
      },
      "source": [
        "Adaptación de los arrays de imágenes y etiquetas para AdaBoost"
      ]
    },
    {
      "cell_type": "code",
      "metadata": {
        "id": "rNnU_E8dinOz",
        "colab": {
          "base_uri": "https://localhost:8080/"
        },
        "outputId": "1c8485d0-925c-4c44-aded-eb48e8e7cbd4"
      },
      "source": [
        "def adaptar_conjuntos(X, Y):\n",
        "  print(mnist_X.shape)\n",
        "  print(mnist_Y.shape)\n",
        "\n",
        "adaptar_conjuntos(mnist_X, mnist_Y)"
      ],
      "execution_count": null,
      "outputs": [
        {
          "output_type": "stream",
          "text": [
            "(60000, 28, 28)\n",
            "(60000,)\n"
          ],
          "name": "stdout"
        }
      ]
    },
    {
      "cell_type": "markdown",
      "metadata": {
        "id": "TY5RX87hizst"
      },
      "source": [
        "Funciones necesarias para los clasificadores débiles"
      ]
    },
    {
      "cell_type": "code",
      "metadata": {
        "id": "JPzp9OSAi8rj"
      },
      "source": [
        "# Dimensión con la que vamos a trabajar. En nuestro caso 28*28\n",
        "def generar_clasificador_debil(dimension_datos):\n",
        "  return (0,0,0) # Devolvemos el clasificador débil generado"
      ],
      "execution_count": null,
      "outputs": []
    },
    {
      "cell_type": "code",
      "metadata": {
        "id": "OZccF64ljbUr"
      },
      "source": [
        "def aplicar_clasificador_debil(clasificador, imagen):\n",
        "  return True"
      ],
      "execution_count": null,
      "outputs": []
    },
    {
      "cell_type": "code",
      "metadata": {
        "id": "M50DGeNhjgDk"
      },
      "source": [
        "def obtener_error(clasificador, X, Y, D):\n",
        "  return 0.0"
      ],
      "execution_count": null,
      "outputs": []
    },
    {
      "cell_type": "code",
      "metadata": {
        "id": "cNdwXE_1lmff"
      },
      "source": [
        "#####################\n",
        "# Bloque de ejemplo\n",
        "\n",
        "imagenes_X = [[3,234,50], [1,89,100], [245,130,134]]\n",
        "etiquetas_Y = [1, -1, 1]\n",
        "D = [0,0,0]\n",
        "\n",
        "c_d = generar_clasificador_debil(28*28)\n",
        "res = aplicar_clasificador_debil(c_d, imagenes_X[0])\n",
        "error = obtener_error(c_d, imagenes_X, etiquetas_Y, D)\n",
        "#####################"
      ],
      "execution_count": null,
      "outputs": []
    },
    {
      "cell_type": "markdown",
      "metadata": {
        "id": "cotcuFUsjtve"
      },
      "source": [
        "Lanzar entrenamiento"
      ]
    },
    {
      "cell_type": "code",
      "metadata": {
        "id": "paE5m0hhjwyX"
      },
      "source": [
        "def adaboost(X, Y, T, A):\n",
        "  clasificadores_debiles = []\n",
        "  alphas = []\n",
        "  return (clasificadores_debiles, alphas)"
      ],
      "execution_count": null,
      "outputs": []
    },
    {
      "cell_type": "code",
      "metadata": {
        "id": "XktISiVjo7J1"
      },
      "source": [
        "cf = adaboost(imagenes_X, etiquetas_Y, 100, 100)"
      ],
      "execution_count": null,
      "outputs": []
    },
    {
      "cell_type": "markdown",
      "metadata": {
        "id": "sHyBl9IXOSQL"
      },
      "source": [
        "Aálisis y resultados de las pruebas realizadas "
      ]
    },
    {
      "cell_type": "code",
      "metadata": {
        "colab": {
          "base_uri": "https://localhost:8080/",
          "height": 281
        },
        "id": "e5eAUu_rOaR1",
        "outputId": "7da9b73a-1607-4246-89c9-ceebbd7f1884"
      },
      "source": [
        "T = [0, 100, 200, 300, 400]      # Numero de clasificadores \n",
        "resultados = [0, 20, 35, 56, 68] # Resultados obtenidos de clasificacion\n",
        "\n",
        "plt.title(\"Porcentajes con valores de T\")\n",
        "plt.plot(T, resultados)\n",
        "plt.show()"
      ],
      "execution_count": null,
      "outputs": [
        {
          "output_type": "display_data",
          "data": {
            "image/png": "[encoded data removed]",
            "text/plain": [
              "<Figure size 432x288 with 1 Axes>"
            ]
          },
          "metadata": {
            "tags": [],
            "needs_background": "light"
          }
        }
      ]
    }
  ]
}